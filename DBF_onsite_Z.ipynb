{
 "cells": [
  {
   "cell_type": "code",
   "execution_count": 14,
   "metadata": {},
   "outputs": [],
   "source": [
    "from simple_exact_diagonalization_routines.local_matrix_class import *\n",
    "from scipy.linalg import expm\n",
    "import matplotlib.pyplot as plt\n",
    "import numpy as np\n",
    "from qutip import *"
   ]
  },
  {
   "cell_type": "code",
   "execution_count": 15,
   "metadata": {},
   "outputs": [],
   "source": [
    "# System size\n",
    "L = 3\n",
    "\n",
    "# Create objects of Pauli operators\n",
    "X = X_class(L)\n",
    "Y = Y_class(L)\n",
    "Z = Z_class(L)\n",
    "\n",
    "# Not used\n",
    "S_plus = S_plus_class(L)\n",
    "S_minus = S_minus_class(L)\n",
    "\n",
    "# Trivial initialization of the right size matrix\n",
    "H_TFIM = 0*np.eye( 2**L ) \n",
    "\n",
    "# H = X1X2 + X2X3 + Z1 + Z2 + Z3\n",
    "for x in range(L-1):\n",
    "    H_TFIM = H_TFIM + X.at(x+1).dot(X.at(x+2)) + Z.at(x+1)\n",
    "H_TFIM = H_TFIM + Z.at(L)    \n",
    "hamiltonian_name = \"TFIM_L_\" +str(L)   "
   ]
  },
  {
   "cell_type": "code",
   "execution_count": 16,
   "metadata": {},
   "outputs": [],
   "source": [
    "from class_double_bracket_flow import *\n",
    "\n",
    "# Initialize class with Hamiltonian\n",
    "flow = double_bracket_flow( H_TFIM )\n",
    "\n",
    "flow.flow_generator['type'] = 'magnetic_field'\n",
    "flow.flow_generator['field_vector'] = np.asarray([1,1,1])"
   ]
  },
  {
   "cell_type": "markdown",
   "metadata": {},
   "source": [
    "# Debugging tests"
   ]
  },
  {
   "cell_type": "markdown",
   "metadata": {},
   "source": [
    "## Test 1: Flow generator commutation\n",
    "flow.choose_flow_generator()returns [B,H]. Correct."
   ]
  },
  {
   "cell_type": "code",
   "execution_count": 8,
   "metadata": {},
   "outputs": [],
   "source": [
    "# Helper functions for testing\n",
    "pauli = {\n",
    "    0: qeye(2),\n",
    "    1: sigmax(),\n",
    "    2: sigmay(),\n",
    "    3: sigmaz()\n",
    "         }\n",
    "\n",
    "def tensor_out(tup):\n",
    "    return tensor(pauli[tup[0]],pauli[tup[1]],pauli[tup[2]])"
   ]
  },
  {
   "cell_type": "code",
   "execution_count": 9,
   "metadata": {},
   "outputs": [
    {
     "data": {
      "text/latex": [
       "Quantum object: dims = [[2, 2, 2], [2, 2, 2]], shape = (8, 8), type = oper, isherm = False $ \\\\ \\left(\\begin{matrix}0.0 & 0.0 & 0.0 & 4.0 & 0.0 & 0.0 & 6.0 & 0.0\\\\0.0 & 0.0 & 0.0 & 0.0 & 0.0 & 0.0 & 0.0 & 6.0\\\\0.0 & 0.0 & 0.0 & 0.0 & 2.0 & 0.0 & 0.0 & 0.0\\\\-4.0 & 0.0 & 0.0 & 0.0 & 0.0 & 2.0 & 0.0 & 0.0\\\\0.0 & 0.0 & -2.0 & 0.0 & 0.0 & 0.0 & 0.0 & 4.0\\\\0.0 & 0.0 & 0.0 & -2.0 & 0.0 & 0.0 & 0.0 & 0.0\\\\-6.0 & 0.0 & 0.0 & 0.0 & 0.0 & 0.0 & 0.0 & 0.0\\\\0.0 & -6.0 & 0.0 & 0.0 & -4.0 & 0.0 & 0.0 & 0.0\\\\\\end{matrix}\\right)$"
      ],
      "text/plain": [
       "Quantum object: dims = [[2, 2, 2], [2, 2, 2]], shape = (8, 8), type = oper, isherm = False\n",
       "Qobj data =\n",
       "[[ 0.  0.  0.  4.  0.  0.  6.  0.]\n",
       " [ 0.  0.  0.  0.  0.  0.  0.  6.]\n",
       " [ 0.  0.  0.  0.  2.  0.  0.  0.]\n",
       " [-4.  0.  0.  0.  0.  2.  0.  0.]\n",
       " [ 0.  0. -2.  0.  0.  0.  0.  4.]\n",
       " [ 0.  0.  0. -2.  0.  0.  0.  0.]\n",
       " [-6.  0.  0.  0.  0.  0.  0.  0.]\n",
       " [ 0. -6.  0.  0. -4.  0.  0.  0.]]"
      ]
     },
     "execution_count": 9,
     "metadata": {},
     "output_type": "execute_result"
    }
   ],
   "source": [
    "B = 2*tensor_out((3,0,0)) + tensor_out((0,3,0)) + tensor_out((0,0,3))\n",
    "H = tensor_out((1,1,0)) + tensor_out((0,1,1)) + B\n",
    "\n",
    "commutator(B,H)\n",
    "# print(B)"
   ]
  },
  {
   "cell_type": "code",
   "execution_count": 10,
   "metadata": {},
   "outputs": [
    {
     "name": "stdout",
     "output_type": "stream",
     "text": [
      "[[ 0.  0.  0.  4.  0.  0.  6.  0.]\n",
      " [ 0.  0.  0.  0.  0.  0.  0.  6.]\n",
      " [ 0.  0.  0.  0.  2.  0.  0.  0.]\n",
      " [-4.  0.  0.  0.  0.  2.  0.  0.]\n",
      " [ 0.  0. -2.  0.  0.  0.  0.  4.]\n",
      " [ 0.  0.  0. -2.  0.  0.  0.  0.]\n",
      " [-6.  0.  0.  0.  0.  0.  0.  0.]\n",
      " [ 0. -6.  0.  0. -4.  0.  0.  0.]]\n"
     ]
    }
   ],
   "source": [
    "flow.flow_generator['field_vector'] = [2,1,1]\n",
    "Z = Z_class(flow.L)\n",
    "Z_ls = [Z.at(i+1) for i in range(flow.L)]\n",
    "## ?? The numpy way?\n",
    "B_field = sum([flow.flow_generator['field_vector'][i] * Z_ls[i] for i in range (flow.L)])\n",
    "chosen_generator = double_bracket_flow.commutator( B_field, H_TFIM ) \n",
    "print(chosen_generator)\n",
    "# print(B_field)"
   ]
  },
  {
   "cell_type": "markdown",
   "metadata": {},
   "source": [
    "## Test 2: Gradient"
   ]
  },
  {
   "cell_type": "code",
   "execution_count": 11,
   "metadata": {},
   "outputs": [
    {
     "name": "stdout",
     "output_type": "stream",
     "text": [
      "[ 0.40170079 -0.36461885 -0.84005332]\n",
      "[-0.40759315  0.81715093 -0.40759315]\n"
     ]
    }
   ],
   "source": [
    "# Issue 1: gradient changing when running multiple times\n",
    "dB_custom = 0.001\n",
    "print(flow.find_magnetic_gradient(s=0.1, B=[3,1,1], dB = dB_custom))\n",
    "print(flow.find_magnetic_gradient(s=0.1, B=[1,1,1], dB = dB_custom))"
   ]
  },
  {
   "cell_type": "markdown",
   "metadata": {},
   "source": [
    "## Test 3: Flow sigma decreasing"
   ]
  },
  {
   "cell_type": "code",
   "execution_count": 17,
   "metadata": {},
   "outputs": [
    {
     "name": "stdout",
     "output_type": "stream",
     "text": [
      "Flow step  0 using H with norm 6.324555320336759\n",
      "    Found minimum norm =  2.885555594802627  for s =  0.07142857142857142\n",
      "Flow step  1 using H with norm 6.324555320336759\n",
      "Flowing with gradient [ 0.57803767 -0.575973    0.57803767]\n",
      " db = 0.0 , B = [0.40824829 0.81649658 0.40824829]\n",
      "    Found minimum norm =  2.885555594802627  for s =  0.07142857142857142\n",
      " db = 0.125 , B = [0.33599358 0.88849321 0.33599358]\n",
      "    Found minimum norm =  2.866076107461075  for s =  0.07142857142857142\n",
      " db = 0.25 , B = [0.26373887 0.96048983 0.26373887]\n",
      "    Found minimum norm =  2.850739706872764  for s =  0.07142857142857142\n",
      " db = 0.375 , B = [0.19148416 1.03248646 0.19148416]\n",
      "    Found minimum norm =  2.8419952414750047  for s =  0.07142857142857142\n",
      " db = 0.5 , B = [0.11922945 1.10448308 0.11922945]\n",
      "    Found minimum norm =  2.8417456093284628  for s =  0.07142857142857142\n",
      " db = 0.625 , B = [0.04697475 1.17647971 0.04697475]\n",
      "    Found minimum norm =  2.8506295716315813  for s =  0.07142857142857142\n",
      " db = 0.75 , B = [-0.02527996  1.24847633 -0.02527996]\n",
      "    Found minimum norm =  2.626148356057884  for s =  0.9285714285714285\n",
      " db = 0.875 , B = [-0.09753467  1.32047296 -0.09753467]\n",
      "    Found minimum norm =  2.2947955186719984  for s =  0.9285714285714285\n",
      " db = 1.0 , B = [-0.16978938  1.39246958 -0.16978938]\n",
      "    Found minimum norm =  2.2035445004555676  for s =  0.9285714285714285\n",
      " Canonical\n",
      "    Found minimum norm =  3.0071685032124646  for s =  0.07142857142857142\n",
      " Recalculate with best magnetic field\n",
      "    Found minimum norm =  2.2035445004555676  for s =  0.9285714285714285\n",
      "For step 1 , the minimum norm found 2.2035445004555676 with magnetic field B =  [-0.12016055  0.98545567 -0.12016055] step size s =  0.9285714285714285\n",
      "Flow step  2 using H with norm 6.324555320336758\n",
      "Flowing with gradient [-0.696878   -0.16947595 -0.696878  ]\n",
      " db = 0.0 , B = [0.40824829 0.81649658 0.40824829]\n",
      "    Found minimum norm =  1.8746645362578287  for s =  0.14285714285714285\n",
      " db = 0.125 , B = [0.49535804 0.83768108 0.49535804]\n",
      "    Found minimum norm =  1.8985429588256038  for s =  0.14285714285714285\n",
      " db = 0.25 , B = [0.58246779 0.85886557 0.58246779]\n",
      "    Found minimum norm =  1.9213161322283783  for s =  0.14285714285714285\n",
      " db = 0.375 , B = [0.66957754 0.88005006 0.66957754]\n",
      "    Found minimum norm =  1.942494235866425  for s =  0.14285714285714285\n",
      " db = 0.5 , B = [0.75668729 0.90123456 0.75668729]\n",
      "    Found minimum norm =  1.961914015397106  for s =  0.14285714285714285\n",
      " db = 0.625 , B = [0.84379704 0.92241905 0.84379704]\n",
      "    Found minimum norm =  1.9795893237575302  for s =  0.14285714285714285\n",
      " db = 0.75 , B = [0.93090679 0.94360355 0.93090679]\n",
      "    Found minimum norm =  1.9956219099842762  for s =  0.14285714285714285\n",
      " db = 0.875 , B = [1.01801654 0.96478804 1.01801654]\n",
      "    Found minimum norm =  2.0101508454372867  for s =  0.14285714285714285\n",
      " db = 1.0 , B = [1.10512629 0.98597254 1.10512629]\n",
      "    Found minimum norm =  2.023325122403919  for s =  0.14285714285714285\n",
      " Canonical\n",
      "    Found minimum norm =  1.9599843823746608  for s =  0.07142857142857142\n",
      " Recalculate with best magnetic field\n",
      "    Found minimum norm =  1.8746645362578287  for s =  0.14285714285714285\n",
      "For step 2 , the minimum norm found 1.8746645362578287 with magnetic field B =  [0.40824829 0.81649658 0.40824829] step size s =  0.14285714285714285\n",
      "Flow step  3 using H with norm 6.324555320336758\n",
      "Flowing with gradient [ 0.57724601 -0.57755874  0.57724601]\n",
      " db = 0.0 , B = [0.40824829 0.81649658 0.40824829]\n",
      "    Found minimum norm =  1.8746645362578287  for s =  0.0\n",
      " db = 0.125 , B = [0.33609254 0.88869142 0.33609254]\n",
      "    Found minimum norm =  1.8746645362578287  for s =  0.0\n",
      " db = 0.25 , B = [0.26393679 0.96088627 0.26393679]\n",
      "    Found minimum norm =  1.8746645362578287  for s =  0.0\n",
      " db = 0.375 , B = [0.19178104 1.03308111 0.19178104]\n",
      "    Found minimum norm =  1.8746645362578287  for s =  0.0\n",
      " db = 0.5 , B = [0.11962529 1.10527595 0.11962529]\n",
      "    Found minimum norm =  1.8746645362578287  for s =  0.0\n",
      " db = 0.625 , B = [0.04746954 1.17747079 0.04746954]\n",
      "    Found minimum norm =  1.8746645362578287  for s =  0.0\n",
      " db = 0.75 , B = [-0.02468621  1.24966563 -0.02468621]\n",
      "    Found minimum norm =  1.8370684236563162  for s =  0.3571428571428571\n",
      " db = 0.875 , B = [-0.09684197  1.32186048 -0.09684197]\n",
      "    Found minimum norm =  1.711545949313616  for s =  0.5714285714285714\n",
      " db = 1.0 , B = [-0.16899772  1.39405532 -0.16899772]\n",
      "    Found minimum norm =  1.6550975829083843  for s =  0.5\n",
      " Canonical\n",
      "    Found minimum norm =  1.6228053010412244  for s =  0.07142857142857142\n",
      " Recalculate with best canonical\n",
      "    Found minimum norm =  1.6228053010412244  for s =  0.07142857142857142\n",
      "For step 3 , the minimum norm found 1.6228053010412244 with canonical, step size s =  0.07142857142857142\n",
      "Flow step  4 using H with norm 6.324555320336759\n",
      "Flowing with gradient [0.69689788 0.16931243 0.69689788]\n",
      " db = 0.0 , B = [0.40824829 0.81649658 0.40824829]\n",
      "    Found minimum norm =  1.6228053010412244  for s =  0.0\n",
      " db = 0.125 , B = [0.32113606 0.79533253 0.32113606]\n",
      "    Found minimum norm =  1.6228053010412244  for s =  0.0\n",
      " db = 0.25 , B = [0.23402382 0.77416847 0.23402382]\n",
      "    Found minimum norm =  1.6228053010412244  for s =  0.0\n",
      " db = 0.375 , B = [0.14691159 0.75300442 0.14691159]\n",
      "    Found minimum norm =  1.6228053010412244  for s =  0.0\n",
      " db = 0.5 , B = [0.05979935 0.73184037 0.05979935]\n",
      "    Found minimum norm =  1.621900036616699  for s =  0.07142857142857142\n",
      " db = 0.625 , B = [-0.02731288  0.71067631 -0.02731288]\n",
      "    Found minimum norm =  1.6183296623072256  for s =  0.14285714285714285\n",
      " db = 0.75 , B = [-0.11442512  0.68951226 -0.11442512]\n",
      "    Found minimum norm =  1.613396099218947  for s =  0.14285714285714285\n",
      " db = 0.875 , B = [-0.20153735  0.66834821 -0.20153735]\n",
      "    Found minimum norm =  1.6102021912150515  for s =  0.14285714285714285\n",
      " db = 1.0 , B = [-0.28864959  0.64718415 -0.28864959]\n",
      "    Found minimum norm =  1.608522329485678  for s =  0.14285714285714285\n",
      " Canonical\n",
      "    Found minimum norm =  1.6088333516663549  for s =  0.07142857142857142\n",
      " Recalculate with best magnetic field\n",
      "    Found minimum norm =  1.6148736954419047  for s =  0.14285714285714285\n",
      "For step 4 , the minimum norm found 1.608522329485678 with magnetic field B =  [-0.12016055  0.98545567 -0.12016055] step size s =  0.14285714285714285\n",
      "Flow step  5 using H with norm 6.324555320336757\n",
      "Flowing with gradient [0.58753249 0.55642708 0.58753253]\n",
      " db = 0.0 , B = [0.40824829 0.81649658 0.40824829]\n",
      "    Found minimum norm =  1.6148736954419047  for s =  0.0\n",
      " db = 0.125 , B = [0.33480673 0.7469432  0.33480672]\n",
      "    Found minimum norm =  1.6148736954419047  for s =  0.0\n",
      " db = 0.25 , B = [0.26136517 0.67738981 0.26136516]\n",
      "    Found minimum norm =  1.6148736954419047  for s =  0.0\n",
      " db = 0.375 , B = [0.18792361 0.60783642 0.18792359]\n",
      "    Found minimum norm =  1.6148736954419047  for s =  0.0\n",
      " db = 0.5 , B = [0.11448205 0.53828304 0.11448202]\n",
      "    Found minimum norm =  1.6148736954419047  for s =  0.0\n",
      " db = 0.625 , B = [0.04104049 0.46872965 0.04104046]\n",
      "    Found minimum norm =  1.6143975389548837  for s =  0.07142857142857142\n",
      " db = 0.75 , B = [-0.03240108  0.39917627 -0.03240111]\n",
      "    Found minimum norm =  1.6114699753616932  for s =  0.07142857142857142\n",
      " db = 0.875 , B = [-0.10584264  0.32962288 -0.10584268]\n",
      "    Found minimum norm =  1.607992379626103  for s =  0.14285714285714285\n",
      " db = 1.0 , B = [-0.1792842   0.2600695  -0.17928424]\n",
      "    Found minimum norm =  1.6064529807523857  for s =  0.07142857142857142\n",
      " Canonical\n",
      "    Found minimum norm =  1.6076632073658732  for s =  0.07142857142857142\n",
      " Recalculate with best magnetic field\n",
      "    Found minimum norm =  1.6107959799681844  for s =  0.14285714285714285\n",
      "For step 5 , the minimum norm found 1.6064529807523857 with magnetic field B =  [-0.12016055  0.98545567 -0.12016055] step size s =  0.14285714285714285\n"
     ]
    }
   ],
   "source": [
    "flow.please_be_exhaustively_verbose = False\n",
    "flow.please_be_verbose = True\n",
    "flow.flow_generator['type'] = 'magnetic_field'\n",
    "flow.flow_generator['field_vector'] = np.asarray([1,2,1])\n",
    "flow.nmb_flow_steps = 5\n",
    "flow.magnetic_step_min = 0\n",
    "flow.magnetic_step_max = 1\n",
    "flow.nmb_search_points_magnetic_b_search = 9\n",
    "\n",
    "flow.flow_step_min = 0\n",
    "flow.flow_step_max = 1.0\n",
    "flow.nmb_search_points_minimizing_s_search = 15\n",
    "flow.flow_via_magnetic_field_search()"
   ]
  },
  {
   "cell_type": "markdown",
   "metadata": {},
   "source": [
    "## Test 4: Plotting"
   ]
  },
  {
   "cell_type": "code",
   "execution_count": 18,
   "metadata": {},
   "outputs": [
    {
     "data": {
      "image/png": "[encoded data removed]",
      "text/plain": [
       "<Figure size 2000x400 with 4 Axes>"
      ]
     },
     "metadata": {},
     "output_type": "display_data"
    }
   ],
   "source": [
    "flow.show_flow_forwards_results()\n",
    "# flow.initialize_flow_results()"
   ]
  },
  {
   "cell_type": "markdown",
   "metadata": {},
   "source": [
    "# TLFIM\n",
    "Compare with Fig 4 notebook\n",
    "\n",
    "TODOs:\n",
    "\n",
    "[] Time\n",
    "\n",
    "[] Change initial directions (how to make a good guess?)\n",
    "\n",
    "[] Store values and plot"
   ]
  },
  {
   "cell_type": "code",
   "execution_count": null,
   "metadata": {},
   "outputs": [],
   "source": [
    "# System size\n",
    "L = 3\n",
    "\n",
    "# Create objects of Pauli operators\n",
    "X = X_class(L)\n",
    "Y = Y_class(L)\n",
    "Z = Z_class(L)\n",
    "S_plus = S_plus_class(L)\n",
    "S_minus = S_minus_class(L)\n",
    "\n",
    "# Trivial initialization of the right size matrix\n",
    "hamiltonian_name = \"TLFIM_L_\" +str(L)\n",
    "H_TLFIM = 0*np.eye( 2**L ) \n",
    "\n",
    "# 2X1X2 + 2X2X3 + Z1 + X1 + Z2 + X2\n",
    "for x in range(L-1):\n",
    "    H_TLFIM = H_TLFIM + 2*X.at(x+1).dot(X.at(x+2)) + Z.at(x+1)+ X.at(x+1)\n",
    "H_TLFIM = H_TLFIM + Z.at(L)    + X.at(L) \n",
    "    "
   ]
  },
  {
   "cell_type": "code",
   "execution_count": null,
   "metadata": {},
   "outputs": [
    {
     "name": "stdout",
     "output_type": "stream",
     "text": [
      "Flow step  0 using H with norm 10.583005244258363\n",
      "    Found minimum norm =  7.355399891293181  for s =  0.08888888888888889\n",
      "Flow step  1 using H with norm 10.583005244258363\n",
      "Flowing with gradient [-0.9804507  -0.00329998  0.1967372 ]\n",
      " db = 0.0 , B = [0.19245009 0.19245009 0.96225045]\n",
      "    Found minimum norm =  7.355399891293181  for s =  0.08888888888888889\n",
      " db = 0.011111111111111112 , B = [0.20334399 0.19248676 0.96006448]\n",
      "    Found minimum norm =  7.334834544758569  for s =  0.08888888888888889\n",
      " db = 0.022222222222222223 , B = [0.21423788 0.19252342 0.95787851]\n",
      "    Found minimum norm =  7.314251276495669  for s =  0.08888888888888889\n",
      " db = 0.03333333333333333 , B = [0.22513178 0.19256009 0.95569254]\n",
      "    Found minimum norm =  7.293670039262234  for s =  0.08888888888888889\n",
      " db = 0.044444444444444446 , B = [0.23602568 0.19259676 0.95350657]\n",
      "    Found minimum norm =  7.273111060818701  for s =  0.08888888888888889\n",
      " db = 0.05555555555555556 , B = [0.24691957 0.19263342 0.9513206 ]\n",
      "    Found minimum norm =  7.252594781938162  for s =  0.08888888888888889\n",
      " db = 0.06666666666666667 , B = [0.25781347 0.19267009 0.94913464]\n",
      "    Found minimum norm =  7.232141792940359  for s =  0.08888888888888889\n",
      " db = 0.07777777777777778 , B = [0.26870737 0.19270675 0.94694867]\n",
      "    Found minimum norm =  7.211772769123618  for s =  0.08888888888888889\n",
      " db = 0.08888888888888889 , B = [0.27960126 0.19274342 0.9447627 ]\n",
      "    Found minimum norm =  7.191508405478816  for s =  0.08888888888888889\n",
      " db = 0.1 , B = [0.29049516 0.19278009 0.94257673]\n",
      "    Found minimum norm =  7.170874971774871  for s =  0.11111111111111112\n",
      " Canonical\n",
      "    Found minimum norm =  7.051732445967569  for s =  0.044444444444444446\n",
      " Recalculate with best canonical\n",
      "    Found minimum norm =  7.051732445967569  for s =  0.044444444444444446\n",
      "For step 1 , the minimum norm found 7.051732445967569 with canonical, step size s =  0.044444444444444446\n",
      "Flow step  2 using H with norm 10.583005244258361\n",
      "Flowing with gradient [-0.65717132 -0.67259859  0.34020139]\n",
      " db = 0.0 , B = [0.19245009 0.19245009 0.96225045]\n",
      "    Found minimum norm =  6.157476715609018  for s =  0.06666666666666667\n",
      " db = 0.011111111111111112 , B = [0.19975199 0.19992341 0.95847043]\n",
      "    Found minimum norm =  6.154147647050722  for s =  0.06666666666666667\n",
      " db = 0.022222222222222223 , B = [0.2070539  0.20739673 0.95469042]\n",
      "    Found minimum norm =  6.1508491582464  for s =  0.06666666666666667\n",
      " db = 0.03333333333333333 , B = [0.2143558  0.21487004 0.9509104 ]\n",
      "    Found minimum norm =  6.147579422143721  for s =  0.06666666666666667\n",
      " db = 0.044444444444444446 , B = [0.2216577  0.22234336 0.94713039]\n",
      "    Found minimum norm =  6.144336630119331  for s =  0.06666666666666667\n",
      " db = 0.05555555555555556 , B = [0.22895961 0.22981668 0.94335037]\n",
      "    Found minimum norm =  6.141118999482375  for s =  0.06666666666666667\n",
      " db = 0.06666666666666667 , B = [0.23626151 0.23729    0.93957036]\n",
      "    Found minimum norm =  6.137924780766445  for s =  0.06666666666666667\n",
      " db = 0.07777777777777778 , B = [0.24356341 0.24476331 0.93579034]\n",
      "    Found minimum norm =  6.134752264764474  for s =  0.06666666666666667\n",
      " db = 0.08888888888888889 , B = [0.25086532 0.25223663 0.93201033]\n",
      "    Found minimum norm =  6.1315997892633956  for s =  0.06666666666666667\n",
      " db = 0.1 , B = [0.25816722 0.25970995 0.92823031]\n",
      "    Found minimum norm =  6.128465745438205  for s =  0.06666666666666667\n",
      " Canonical\n",
      "    Found minimum norm =  5.860657248079271  for s =  0.022222222222222223\n",
      " Recalculate with best canonical\n",
      "    Found minimum norm =  5.860657248079271  for s =  0.022222222222222223\n",
      "For step 2 , the minimum norm found 5.860657248079271 with canonical, step size s =  0.022222222222222223\n",
      "Flow step  3 using H with norm 10.583005244258361\n",
      "Flowing with gradient [-0.53598586 -0.76240807  0.36256462]\n",
      " db = 0.0 , B = [0.19245009 0.19245009 0.96225045]\n",
      "    Found minimum norm =  5.249930860585874  for s =  0.06666666666666667\n",
      " db = 0.011111111111111112 , B = [0.19840549 0.20092129 0.95822195]\n",
      "    Found minimum norm =  5.247726267094312  for s =  0.06666666666666667\n",
      " db = 0.022222222222222223 , B = [0.20436089 0.20939249 0.95419346]\n",
      "    Found minimum norm =  5.245627487098463  for s =  0.06666666666666667\n",
      " db = 0.03333333333333333 , B = [0.21031629 0.21786369 0.95016496]\n",
      "    Found minimum norm =  5.243632649708712  for s =  0.06666666666666667\n",
      " db = 0.044444444444444446 , B = [0.21627168 0.22633489 0.94613647]\n",
      "    Found minimum norm =  5.241739726273237  for s =  0.06666666666666667\n",
      " db = 0.05555555555555556 , B = [0.22222708 0.23480609 0.94210797]\n",
      "    Found minimum norm =  5.239946537472703  for s =  0.06666666666666667\n",
      " db = 0.06666666666666667 , B = [0.22818248 0.24327729 0.93807947]\n",
      "    Found minimum norm =  5.238250761038799  for s =  0.06666666666666667\n",
      " db = 0.07777777777777778 , B = [0.23413788 0.25174849 0.93405098]\n",
      "    Found minimum norm =  5.236649940050925  for s =  0.06666666666666667\n",
      " db = 0.08888888888888889 , B = [0.24009328 0.2602197  0.93002248]\n",
      "    Found minimum norm =  5.235141491760832  for s =  0.06666666666666667\n",
      " db = 0.1 , B = [0.24604868 0.2686909  0.92599399]\n",
      "    Found minimum norm =  5.2337227168910365  for s =  0.06666666666666667\n",
      " Canonical\n",
      "    Found minimum norm =  5.107613590430053  for s =  0.022222222222222223\n",
      " Recalculate with best canonical\n",
      "    Found minimum norm =  5.107613590430053  for s =  0.022222222222222223\n",
      "For step 3 , the minimum norm found 5.107613590430053 with canonical, step size s =  0.022222222222222223\n",
      "Flow step  4 using H with norm 10.583005244258363\n",
      "Flowing with gradient [-0.70638783 -0.60693739  0.3642022 ]\n",
      " db = 0.0 , B = [0.19245009 0.19245009 0.96225045]\n",
      "    Found minimum norm =  4.471933549402297  for s =  0.044444444444444446\n",
      " db = 0.011111111111111112 , B = [0.20029884 0.19919384 0.95820376]\n",
      "    Found minimum norm =  4.474979554292557  for s =  0.044444444444444446\n",
      " db = 0.022222222222222223 , B = [0.2081476  0.20593759 0.95415707]\n",
      "    Found minimum norm =  4.478146640950477  for s =  0.044444444444444446\n",
      " db = 0.03333333333333333 , B = [0.21599635 0.21268134 0.95011038]\n",
      "    Found minimum norm =  4.481427108329718  for s =  0.044444444444444446\n",
      " db = 0.044444444444444446 , B = [0.2238451  0.21942508 0.94606368]\n",
      "    Found minimum norm =  4.4848131091634675  for s =  0.044444444444444446\n",
      " db = 0.05555555555555556 , B = [0.23169386 0.22616883 0.94201699]\n",
      "    Found minimum norm =  4.488296674638879  for s =  0.044444444444444446\n",
      " db = 0.06666666666666667 , B = [0.23954261 0.23291258 0.9379703 ]\n",
      "    Found minimum norm =  4.491869739427106  for s =  0.044444444444444446\n",
      " db = 0.07777777777777778 , B = [0.24739137 0.23965633 0.93392361]\n",
      "    Found minimum norm =  4.495524166920843  for s =  0.044444444444444446\n",
      " db = 0.08888888888888889 , B = [0.25524012 0.24640008 0.92987692]\n",
      "    Found minimum norm =  4.499251774530968  for s =  0.044444444444444446\n",
      " db = 0.1 , B = [0.26308887 0.25314383 0.92583023]\n",
      "    Found minimum norm =  4.503044358895174  for s =  0.044444444444444446\n",
      " Canonical\n",
      "    Found minimum norm =  5.107613590430053  for s =  0.0\n",
      " Recalculate with best magnetic field\n",
      "    Found minimum norm =  4.471933549402297  for s =  0.044444444444444446\n",
      "For step 4 , the minimum norm found 4.471933549402297 with magnetic field B =  [0.19245009 0.19245009 0.96225045] step size s =  0.044444444444444446\n"
     ]
    }
   ],
   "source": [
    "from class_double_bracket_flow import *\n",
    "\n",
    "\n",
    "flow = double_bracket_flow( H_TLFIM )\n",
    "\n",
    "flow.please_be_exhaustively_verbose = False\n",
    "flow.please_be_verbose = True\n",
    "\n",
    "flow.flow_step_max = 0.2\n",
    "flow.nmb_search_points_minimizing_s_search = 10\n",
    "flow.please_use_binary_search =  False\n",
    "flow.please_compute_observables = False\n",
    "\n",
    "\n",
    "flow.flow_generator['type'] = 'magnetic_field'\n",
    "flow.flow_generator['field_vector'] = np.asarray([1,1,5])\n",
    "\n",
    "flow.magnetic_step_min = 0\n",
    "flow.magnetic_step_max = 0.1\n",
    "flow.nmb_search_points_magnetic_b_search = 10\n",
    "flow.nmb_flow_steps = 5\n",
    "\n",
    "flow.flow_via_magnetic_field_search()"
   ]
  },
  {
   "cell_type": "markdown",
   "metadata": {},
   "source": []
  }
 ],
 "metadata": {
  "kernelspec": {
   "display_name": "DBF",
   "language": "python",
   "name": "python3"
  },
  "language_info": {
   "codemirror_mode": {
    "name": "ipython",
    "version": 3
   },
   "file_extension": ".py",
   "mimetype": "text/x-python",
   "name": "python",
   "nbconvert_exporter": "python",
   "pygments_lexer": "ipython3",
   "version": "3.11.5"
  }
 },
 "nbformat": 4,
 "nbformat_minor": 2
}
