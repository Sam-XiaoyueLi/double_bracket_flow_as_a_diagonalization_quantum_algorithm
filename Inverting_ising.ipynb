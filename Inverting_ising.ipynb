{
 "cells": [
  {
   "cell_type": "markdown",
   "metadata": {},
   "source": [
    "# Inverting evolution for Ising model\n",
    "The goal is to obtain the inverse evolution: $e^{-itH}\\to e^{itH}$"
   ]
  },
  {
   "cell_type": "code",
   "execution_count": 1,
   "metadata": {},
   "outputs": [],
   "source": [
    "from simple_exact_diagonalization_routines.local_matrix_class import *\n",
    "from scipy.linalg import expm\n",
    "import matplotlib.pyplot as plt\n",
    "import numpy as np\n",
    "from qutip import *\n",
    "from class_ising_model import *\n",
    "import itertools\n",
    "from class_double_bracket_flow import *\n",
    "import math"
   ]
  },
  {
   "cell_type": "markdown",
   "metadata": {},
   "source": [
    "## Nearest-neighbor"
   ]
  },
  {
   "cell_type": "markdown",
   "metadata": {},
   "source": [
    "### Test 1: 1D Nearest neighbor\n",
    "First, we observe that for a nearest-neighbor model $H_{NN} = \\sum_i Z_i Z_{i+1}$, $X_{odd} = \\prod_i X_{2i-1}$, satisfies:\n",
    "\n",
    "   \\begin{align}\n",
    "        X_\\text{odd} H_\\text{NN}X_\\text{odd} =-H_\\text{NN}\n",
    "    \\end{align}\n",
    "\n",
    "In the 4 qubit case:\n",
    "\n",
    "$H_{NN} = Z_1 Z_2 + Z_2 Z_3 + Z_3 Z_4$\n",
    "\n",
    "$H_{odd} = X_1X_3$\n",
    "\n",
    "$H_{odd}H_{NN}H_{odd} = -Z_1Z_2 - Z_2Z_3 - Z_3Z_4$"
   ]
  },
  {
   "cell_type": "code",
   "execution_count": 60,
   "metadata": {},
   "outputs": [
    {
     "name": "stdout",
     "output_type": "stream",
     "text": [
      "True\n"
     ]
    }
   ],
   "source": [
    "# Test: class output correct Hamiltonian, J_class = '1D' by default\n",
    "# # H_NN = Z1Z2 + Z2Z3 + Z3Z4\n",
    "\n",
    "sys_1D = ising_model([0,0,0,0],[0,0,0,0])\n",
    "print(np.all(sys_1D.H == sys_1D.Z.at(1) @ sys_1D.Z.at(2) + sys_1D.Z.at(2) @ sys_1D.Z.at(3) + sys_1D.Z.at(3) @ sys_1D.Z.at(4)))"
   ]
  },
  {
   "cell_type": "code",
   "execution_count": 63,
   "metadata": {},
   "outputs": [
    {
     "name": "stdout",
     "output_type": "stream",
     "text": [
      "True\n",
      "True\n"
     ]
    }
   ],
   "source": [
    "X_odd_list = [sys_1D.X.at(2*i + 1) for i in range(math.ceil(sys_1D.L/2))]\n",
    "X_odd = np.linalg.multi_dot(X_odd_list)\n",
    "print(np.all(X_odd == sys_1D.X.at(1)@sys_1D.X.at(3)))\n",
    "print(np.all(X_odd @ sys_1D.H @ X_odd ==-sys_1D.H))"
   ]
  },
  {
   "cell_type": "markdown",
   "metadata": {},
   "source": [
    "### Test 2: Circular NN (Even L)\n",
    "$H_{NN} = Z_1 Z_2 + Z_2 Z_3 + Z_3 Z_4 + Z_4Z_1$\n",
    "\n",
    "$H_{odd} = X_1X_3$\n",
    "\n",
    "$H_{odd}H_{NN}H_{odd} = -Z_1Z_2 - Z_2Z_3 - Z_3Z_4 - Z_4Z_1$"
   ]
  },
  {
   "cell_type": "code",
   "execution_count": 64,
   "metadata": {},
   "outputs": [
    {
     "name": "stdout",
     "output_type": "stream",
     "text": [
      "True\n"
     ]
    }
   ],
   "source": [
    "# Test: class output correct Hamiltonian, J_class = 'custom' and 'circular'\n",
    "# # H_NN = Z1Z2 + Z2Z3 + Z3Z4 + Z4Z1\n",
    "\n",
    "# sys = ising_model([0,0,0],[0,0,0],J_type='custom',J_custom={(1,2):1, (2,3):1, (1,3):1})\n",
    "sys_circ = ising_model([0,0,0,0],[0,0,0,0],J_type='circular')\n",
    "print(np.all(sys_circ.H == sys_circ.Z.at(1) @ sys_circ.Z.at(2) + sys_circ.Z.at(2) @ sys_circ.Z.at(3) + sys_circ.Z.at(3) @ sys_circ.Z.at(4) + sys_circ.Z.at(1) @ sys_circ.Z.at(4)))"
   ]
  },
  {
   "cell_type": "code",
   "execution_count": 67,
   "metadata": {},
   "outputs": [
    {
     "name": "stdout",
     "output_type": "stream",
     "text": [
      "True\n",
      "True\n"
     ]
    }
   ],
   "source": [
    "print(np.all(X_odd == sys_circ.X.at(1)@sys_circ.X.at(3)))\n",
    "print(np.all(X_odd @ sys_circ.H @ X_odd ==-sys_circ.H))"
   ]
  },
  {
   "cell_type": "markdown",
   "metadata": {},
   "source": [
    "## Next-nearest-neighbor"
   ]
  },
  {
   "cell_type": "markdown",
   "metadata": {},
   "source": [
    "### Test 1: 1D NNN\n",
    "$H_{NN} = Z_1 Z_3 + Z_2 Z_4$\n",
    "\n",
    "$H_{odd} = X_1X_3$\n",
    "\n",
    "$H_{cor} = X_1X_2$\n",
    "\n",
    "$H_{odd}H_{NN}H_{odd} = H_{NN}$\n",
    "\n",
    "$H_{cor}H_{NN}H_{cor} = -H_{NN}$"
   ]
  },
  {
   "cell_type": "code",
   "execution_count": 12,
   "metadata": {},
   "outputs": [
    {
     "name": "stdout",
     "output_type": "stream",
     "text": [
      "True\n",
      "True\n",
      "True\n"
     ]
    }
   ],
   "source": [
    "sys_1D = ising_model([0,0,0,0],[0,0,0,0],J_type='custom', J_custom={(1,3):1, (2,4):1})\n",
    "print(np.all(sys_1D.H == sys_1D.Z.at(1) @ sys_1D.Z.at(3) + sys_1D.Z.at(2) @ sys_1D.Z.at(4)))\n",
    "X_odd = sys_1D.X_odd()\n",
    "X_cor = sys_1D.X.at(1) @ sys_1D.X.at(2)\n",
    "print(np.all(X_odd @ sys_1D.H @ X_odd == sys_1D.H))\n",
    "print(np.all(X_cor @ sys_1D.H @ X_cor == -sys_1D.H))"
   ]
  },
  {
   "cell_type": "code",
   "execution_count": 13,
   "metadata": {},
   "outputs": [
    {
     "name": "stdout",
     "output_type": "stream",
     "text": [
      "False\n",
      "False\n",
      "False\n"
     ]
    }
   ],
   "source": [
    "sys_1D = ising_model([0,0,0,0],[0,0,0,0],max_coupling_range=2)\n",
    "print(np.all(sys_1D.H == sys_1D.Z.at(1) @ sys_1D.Z.at(3) + sys_1D.Z.at(2) @ sys_1D.Z.at(4)))\n",
    "X_odd = sys_1D.X_odd()\n",
    "X_cor = sys_1D.X.at(1) @ sys_1D.X.at(2)\n",
    "print(np.all(X_odd @ sys_1D.H @ X_odd == sys_1D.H))\n",
    "print(np.all(X_cor @ sys_1D.H @ X_cor == -sys_1D.H))"
   ]
  },
  {
   "cell_type": "code",
   "execution_count": null,
   "metadata": {},
   "outputs": [],
   "source": []
  }
 ],
 "metadata": {
  "kernelspec": {
   "display_name": "DBF",
   "language": "python",
   "name": "python3"
  },
  "language_info": {
   "codemirror_mode": {
    "name": "ipython",
    "version": 3
   },
   "file_extension": ".py",
   "mimetype": "text/x-python",
   "name": "python",
   "nbconvert_exporter": "python",
   "pygments_lexer": "ipython3",
   "version": "3.11.5"
  }
 },
 "nbformat": 4,
 "nbformat_minor": 2
}
