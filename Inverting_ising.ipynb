{
 "cells": [
  {
   "cell_type": "markdown",
   "metadata": {},
   "source": [
    "# Inverting evolution for Ising model\n",
    "The goal is to obtain the inverse evolution: $e^{-itH}\\to e^{itH}$"
   ]
  },
  {
   "cell_type": "code",
   "execution_count": 1,
   "metadata": {},
   "outputs": [],
   "source": [
    "from simple_exact_diagonalization_routines.local_matrix_class import *\n",
    "from scipy.linalg import expm\n",
    "import matplotlib.pyplot as plt\n",
    "import numpy as np\n",
    "from qutip import *\n",
    "from class_ising_model import *\n",
    "import itertools\n",
    "from class_double_bracket_flow import *\n",
    "import math"
   ]
  },
  {
   "cell_type": "markdown",
   "metadata": {},
   "source": [
    "## Nearest-neighbor"
   ]
  },
  {
   "cell_type": "markdown",
   "metadata": {},
   "source": [
    "### Test 1: 1D Nearest neighbor\n",
    "First, we observe that for a nearest-neighbor model $H_{NN} = \\sum_i Z_i Z_{i+1}$, $X_{odd} = \\prod_i X_{2i-1}$, satisfies:\n",
    "\n",
    "   \\begin{align}\n",
    "        X_\\text{odd} H_\\text{NN}X_\\text{odd} =-H_\\text{NN}\n",
    "    \\end{align}\n",
    "\n",
    "In the 4 qubit case:\n",
    "\n",
    "$H_{NN} = Z_1 Z_2 + Z_2 Z_3 + Z_3 Z_4$\n",
    "\n",
    "$H_{odd} = X_1X_3$\n",
    "\n",
    "$H_{odd}H_{NN}H_{odd} = -Z_1Z_2 - Z_2Z_3 - Z_3Z_4$"
   ]
  },
  {
   "cell_type": "code",
   "execution_count": 60,
   "metadata": {},
   "outputs": [
    {
     "name": "stdout",
     "output_type": "stream",
     "text": [
      "True\n"
     ]
    }
   ],
   "source": [
    "# Test: class output correct Hamiltonian, J_class = '1D' by default\n",
    "# # H_NN = Z1Z2 + Z2Z3 + Z3Z4\n",
    "\n",
    "sys_1D = ising_model([0,0,0,0],[0,0,0,0])\n",
    "print(np.all(sys_1D.H == sys_1D.Z.at(1) @ sys_1D.Z.at(2) + sys_1D.Z.at(2) @ sys_1D.Z.at(3) + sys_1D.Z.at(3) @ sys_1D.Z.at(4)))"
   ]
  },
  {
   "cell_type": "code",
   "execution_count": 63,
   "metadata": {},
   "outputs": [
    {
     "name": "stdout",
     "output_type": "stream",
     "text": [
      "True\n",
      "True\n"
     ]
    }
   ],
   "source": [
    "X_odd_list = [sys_1D.X.at(2*i + 1) for i in range(math.ceil(sys_1D.L/2))]\n",
    "X_odd = np.linalg.multi_dot(X_odd_list)\n",
    "print(np.all(X_odd == sys_1D.X.at(1)@sys_1D.X.at(3)))\n",
    "print(np.all(X_odd @ sys_1D.H @ X_odd ==-sys_1D.H))"
   ]
  },
  {
   "cell_type": "markdown",
   "metadata": {},
   "source": [
    "### Test 2: Circular NN (Even L)\n",
    "$H_{NN} = Z_1 Z_2 + Z_2 Z_3 + Z_3 Z_4 + Z_4Z_1$\n",
    "\n",
    "$H_{odd} = X_1X_3$\n",
    "\n",
    "$H_{odd}H_{NN}H_{odd} = -Z_1Z_2 - Z_2Z_3 - Z_3Z_4 - Z_4Z_1$"
   ]
  },
  {
   "cell_type": "code",
   "execution_count": 64,
   "metadata": {},
   "outputs": [
    {
     "name": "stdout",
     "output_type": "stream",
     "text": [
      "True\n"
     ]
    }
   ],
   "source": [
    "# Test: class output correct Hamiltonian, J_class = 'custom' and 'circular'\n",
    "# # H_NN = Z1Z2 + Z2Z3 + Z3Z4 + Z4Z1\n",
    "\n",
    "# sys = ising_model([0,0,0],[0,0,0],J_type='custom',J_custom={(1,2):1, (2,3):1, (1,3):1})\n",
    "sys_circ = ising_model([0,0,0,0],[0,0,0,0],J_type='circular')\n",
    "print(np.all(sys_circ.H == sys_circ.Z.at(1) @ sys_circ.Z.at(2) + sys_circ.Z.at(2) @ sys_circ.Z.at(3) + sys_circ.Z.at(3) @ sys_circ.Z.at(4) + sys_circ.Z.at(1) @ sys_circ.Z.at(4)))"
   ]
  },
  {
   "cell_type": "code",
   "execution_count": 67,
   "metadata": {},
   "outputs": [
    {
     "name": "stdout",
     "output_type": "stream",
     "text": [
      "True\n",
      "True\n"
     ]
    }
   ],
   "source": [
    "print(np.all(X_odd == sys_circ.X.at(1)@sys_circ.X.at(3)))\n",
    "print(np.all(X_odd @ sys_circ.H @ X_odd ==-sys_circ.H))"
   ]
  },
  {
   "cell_type": "markdown",
   "metadata": {},
   "source": [
    "## Next-nearest-neighbor"
   ]
  },
  {
   "cell_type": "markdown",
   "metadata": {},
   "source": [
    "### Test 1: 1D NNN\n",
    "$H_{NNN} = Z_1 Z_2 + .5Z_1 Z_3 + Z_2 Z_3 + .5Z_2 Z_4 + Z_3 Z_4$\n",
    "\n",
    "$H_{odd} = X_1X_3$\n",
    "\n",
    "$H_{odd}H_{NNN}H_{odd} = ...$\n"
   ]
  },
  {
   "cell_type": "code",
   "execution_count": 16,
   "metadata": {},
   "outputs": [
    {
     "name": "stdout",
     "output_type": "stream",
     "text": [
      "True\n",
      "False\n",
      "False\n"
     ]
    }
   ],
   "source": [
    "sys_1D = ising_model([0,0,0,0],[0,0,0,0],max_coupling_range=2)\n",
    "print(np.all(sys_1D.H == sys_1D.Z.at(1) @ sys_1D.Z.at(2) + .5*sys_1D.Z.at(1) @ sys_1D.Z.at(3)\\\n",
    "    + sys_1D.Z.at(2) @ sys_1D.Z.at(3) + .5*sys_1D.Z.at(2) @ sys_1D.Z.at(4) + sys_1D.Z.at(3) @ sys_1D.Z.at(4)))\n",
    "X_odd = sys_1D.X_odd()\n",
    "X_cor = sys_1D.X.at(1) @ sys_1D.X.at(2)\n",
    "print(np.all(X_odd @ sys_1D.H @ X_odd == sys_1D.H))\n",
    "print(np.all(X_cor @ sys_1D.H @ X_cor == -sys_1D.H))"
   ]
  },
  {
   "cell_type": "code",
   "execution_count": 13,
   "metadata": {},
   "outputs": [
    {
     "name": "stdout",
     "output_type": "stream",
     "text": [
      "False\n",
      "False\n",
      "False\n"
     ]
    }
   ],
   "source": [
    "sys_1D = ising_model([0,0,0,0],[0,0,0,0],max_coupling_range=2)\n",
    "print(np.all(sys_1D.H == sys_1D.Z.at(1) @ sys_1D.Z.at(3) + sys_1D.Z.at(2) @ sys_1D.Z.at(4)))\n",
    "X_odd = sys_1D.X_odd()\n",
    "X_cor = sys_1D.X.at(1) @ sys_1D.X.at(2)\n",
    "print(np.all(X_odd @ sys_1D.H @ X_odd == sys_1D.H))\n",
    "print(np.all(X_cor @ sys_1D.H @ X_cor == -sys_1D.H))"
   ]
  },
  {
   "cell_type": "markdown",
   "metadata": {},
   "source": [
    "## H with field\n",
    "$H  = Z_1Z_2 + \\frac{1}{2}Z_1Z_3 + Z_2Z_3$\n",
    "\n",
    "$H_{inverter} = X_2$\n",
    "\n",
    "$H_{inverter} H H_{inverter} = -H + Z_1Z_3$"
   ]
  },
  {
   "cell_type": "code",
   "execution_count": 98,
   "metadata": {},
   "outputs": [
    {
     "name": "stdout",
     "output_type": "stream",
     "text": [
      "True\n",
      "True\n"
     ]
    }
   ],
   "source": [
    "# Basic case\n",
    "sys = ising_model([0,0,0], [0,0,0], max_coupling_range=2)\n",
    "H_inverter = sys.X.at(2)\n",
    "H_imp_inv = H_inverter @ sys.H @ H_inverter\n",
    "print(np.all(H_imp_inv == (-sys.H + sys.Z.at(1)@sys.Z.at(3))))\n",
    "print(np.all(H_imp_inv + sys.H == sys.Z.at(1)@sys.Z.at(3)))"
   ]
  },
  {
   "cell_type": "markdown",
   "metadata": {},
   "source": [
    "### Convergence\n",
    "$\\lang e^{itH}, \\mathcal I(e^{-itH})\\rang = tr(e^{-itH} X_2e^{-itH}X_2e^{it Z_1Z_3})=tr(e^{-itH} e^{it(Z_1Z_2+Z_2 Z_3 - \\frac{1}{2}Z_1Z_3)}e^{it Z_1Z_3})$"
   ]
  },
  {
   "cell_type": "code",
   "execution_count": 168,
   "metadata": {},
   "outputs": [],
   "source": [
    "# Convergence\n",
    "def convergence(H,H_inverter,t, N):\n",
    "    H_imp_inv = H_inverter @ H @ H_inverter\n",
    "    missing_term = H_imp_inv + H\n",
    "    s = t/N\n",
    "    target = expm(-1j*t*H) @ np.linalg.matrix_power(((H_inverter @ expm(-1j*s*H) @ H_inverter) @ expm(1j* s *missing_term)), N)\n",
    "    return np.abs(target.trace()/np.sqrt(np.size(H)))"
   ]
  },
  {
   "cell_type": "code",
   "execution_count": 176,
   "metadata": {},
   "outputs": [
    {
     "name": "stdout",
     "output_type": "stream",
     "text": [
      "[1.0, 1.0000000000000002, 0.9999999999999974, 1.000000000000003, 0.9999999999999989, 1.0000000000000082, 0.99999999999999, 0.9999999999999764, 1.0000000000000249, 1.00000000000001, 1.0000000000000169, 0.9999999999999383, 1.0000000000000089, 0.9999999999999902, 0.9999999999999917, 1.0000000000000986, 1.0000000000000382, 0.9999999999999931, 1.0000000000000182, 0.999999999999982, 0.9999999999999825]\n"
     ]
    }
   ],
   "source": [
    "N_list = np.linspace(1,1001,21)\n",
    "convergence_list = [convergence(sys.H, H_inverter, 1, int(N)) for N in N_list]\n",
    "print(convergence_list)\n",
    "# No clear trend"
   ]
  },
  {
   "cell_type": "markdown",
   "metadata": {},
   "source": [
    "$H  = Z_1Z_2 + \\frac{1}{2}Z_1Z_3 + Z_2Z_3 +Z_1 + Z_2 + Z_3 + 2(X_1 + X_2 + X_3)$\n",
    "\n",
    "$H_{inverter} = Y_1Y_3$\n",
    "\n",
    "$H_{inverter} H H_{inverter} = -H + Z_1Z_3+2Z_2+4X_2$"
   ]
  },
  {
   "cell_type": "code",
   "execution_count": 177,
   "metadata": {},
   "outputs": [
    {
     "name": "stdout",
     "output_type": "stream",
     "text": [
      "True\n"
     ]
    }
   ],
   "source": [
    "# D and B = [1,1,1]\n",
    "sys = ising_model([1,1,1], [1,1,1], max_coupling_range=2)\n",
    "H_inverter = sys.Y.at(1)@sys.Y.at(3)\n",
    "H_imp_inv = H_inverter @ sys.H @ H_inverter\n",
    "print(np.all(H_imp_inv == (-sys.H + sys.Z.at(1)@sys.Z.at(3)+2*sys.Z.at(2)+4*sys.X.at(2))))"
   ]
  },
  {
   "cell_type": "code",
   "execution_count": 228,
   "metadata": {},
   "outputs": [
    {
     "name": "stdout",
     "output_type": "stream",
     "text": [
      "[0.4208290181660961, 0.9001324857234819, 0.9692521506428866, 0.9853634271416382, 0.9914812835306365, 0.994435752407034, 0.9960832204084248, 0.9970944350527611, 0.9977592781350435, 0.9982195777882122, 0.9985513679934538, 0.9987983808813581, 0.9989872151941835, 0.9991348019968949, 0.9992523337046184, 0.9993474490838816, 0.999425505903673, 0.9994903519699658, 0.9995448083939625, 0.9995909815937039, 0.9996304700369318]\n"
     ]
    },
    {
     "data": {
      "text/plain": [
       "Text(0, 0.5, 'Convergence trace')"
      ]
     },
     "execution_count": 228,
     "metadata": {},
     "output_type": "execute_result"
    },
    {
     "data": {
      "image/png": "[encoded data removed]",
      "text/plain": [
       "<Figure size 640x480 with 1 Axes>"
      ]
     },
     "metadata": {},
     "output_type": "display_data"
    }
   ],
   "source": [
    "N_list = np.linspace(1,101,21)\n",
    "convergence_list = [convergence(sys.H, H_inverter, 1, int(N)) for N in N_list]\n",
    "print(convergence_list)\n",
    "plt.plot(N_list, convergence_list)\n",
    "plt.xlabel('N')\n",
    "plt.ylabel('Convergence trace')"
   ]
  },
  {
   "cell_type": "markdown",
   "metadata": {},
   "source": [
    "# DBI integration"
   ]
  },
  {
   "cell_type": "markdown",
   "metadata": {},
   "source": [
    "## Test: group commutator approximation"
   ]
  },
  {
   "cell_type": "markdown",
   "metadata": {},
   "source": [
    "### Without imperfect inversion\n",
    "$e^{s[\\hat D,\\hat J]} = e^{i\\sqrt s \\hat D}e^{i\\sqrt s\\hat J}e^{-i\\sqrt s \\hat D}e^{-i\\sqrt s\\hat J}+ \\hat E^{\\text{(GC)}}$"
   ]
  },
  {
   "cell_type": "code",
   "execution_count": 181,
   "metadata": {},
   "outputs": [
    {
     "name": "stdout",
     "output_type": "stream",
     "text": [
      "True\n"
     ]
    }
   ],
   "source": [
    "# D and B = [1,1,1]\n",
    "sys = ising_model([1,1,1], [1,1,1], max_coupling_range=2)\n",
    "H_inverter = sys.Y.at(1)@sys.Y.at(3)\n",
    "H_imp_inv = H_inverter @ sys.H @ H_inverter\n",
    "print(np.all(H_imp_inv == (-sys.H + sys.Z.at(1)@sys.Z.at(3)+2*sys.Z.at(2)+4*sys.X.at(2))))"
   ]
  },
  {
   "cell_type": "code",
   "execution_count": 211,
   "metadata": {},
   "outputs": [],
   "source": [
    "def commutator(A, B):\n",
    "    return A.dot( B ) - B.dot( A )\n",
    "\n",
    "def group_commutator(D , H, s):\n",
    "    sqrt_s = np.sqrt(s)\n",
    "    return expm(1j*sqrt_s*D) @ expm(1j*sqrt_s*H) @ expm(-1j*sqrt_s*D) @ expm(-1j*sqrt_s*H)\n",
    "\n",
    "def delta( A ):\n",
    "        return np.diag( A.diagonal() )"
   ]
  },
  {
   "cell_type": "code",
   "execution_count": 227,
   "metadata": {},
   "outputs": [
    {
     "data": {
      "text/plain": [
       "<matplotlib.legend.Legend at 0x16a4e4850>"
      ]
     },
     "execution_count": 227,
     "metadata": {},
     "output_type": "execute_result"
    },
    {
     "data": {
      "image/png": "[encoded data removed]",
      "text/plain": [
       "<Figure size 640x480 with 1 Axes>"
      ]
     },
     "metadata": {},
     "output_type": "display_data"
    }
   ],
   "source": [
    "t_list = np.linspace(0.01, 0.5, 10)\n",
    "norm_list = []\n",
    "bound_list = []\n",
    "D = delta(sys.H)\n",
    "bound = np.linalg.norm(commutator(D, commutator(D, sys.H)))\\\n",
    "            + np.linalg.norm(commutator(sys.H, commutator(D, sys.H)))\n",
    "for t in t_list:\n",
    "    GC = group_commutator(D, sys.H, t)\n",
    "    exp_commutator = expm(t * commutator(D, sys.H))\n",
    "    diff = exp_commutator - GC\n",
    "    HS_norm = np.linalg.norm(diff, 'fro')\n",
    "    norm_list.append(HS_norm)\n",
    "    bound_list.append(bound*(t**3))\n",
    "plt.plot(t_list, norm_list,label='HS_norm_error')\n",
    "plt.plot(t_list, bound_list, label='Error bound')\n",
    "plt.xlabel('t')\n",
    "plt.ylabel('HS_norm')\n",
    "plt.legend()"
   ]
  },
  {
   "cell_type": "code",
   "execution_count": 203,
   "metadata": {},
   "outputs": [
    {
     "data": {
      "text/plain": [
       "array([[ 6.96673182e-01+0.01878749j, -1.96523282e-03-0.33410081j,\n",
       "         1.24219245e-01-0.4013209j ,  2.53221281e-02-0.10609654j,\n",
       "        -1.96523282e-03-0.33410081j, -2.50904422e-01+0.14656998j,\n",
       "         2.53221281e-02-0.10609654j, -3.05270065e-02-0.07339707j],\n",
       "       [-1.83810832e-01-0.06034136j,  1.99819605e-01-0.15914661j,\n",
       "        -1.26180174e-01+0.2688891j ,  2.18447718e-02-0.43678938j,\n",
       "        -3.53457293e-01-0.26858702j, -5.01443795e-01-0.11987192j,\n",
       "        -1.27976329e-02+0.38826054j,  5.45370637e-02+0.03258095j],\n",
       "       [ 5.88114663e-01-0.11868171j,  1.32696324e-01+0.34267991j,\n",
       "        -1.87385636e-01+0.52557086j,  3.94150460e-03-0.03228847j,\n",
       "         1.32696324e-01+0.34267991j, -2.02461907e-01+0.05052899j,\n",
       "         3.94150460e-03-0.03228847j,  4.52068799e-02+0.10449018j],\n",
       "       [-1.66566924e-01+0.07235487j,  2.16338558e-01-0.41105594j,\n",
       "        -3.29201071e-01-0.08527051j,  3.88621304e-01-0.24563702j,\n",
       "         2.50980963e-01+0.41399398j, -6.36728899e-02+0.33852273j,\n",
       "        -1.64655594e-01-0.13619661j, -1.18698191e-01-0.10704125j],\n",
       "       [-1.83810832e-01-0.06034136j, -3.53457293e-01-0.26858702j,\n",
       "        -1.26180174e-01+0.2688891j , -1.27976329e-02+0.38826054j,\n",
       "         1.99819605e-01-0.15914661j, -5.01443795e-01-0.11987192j,\n",
       "         2.18447718e-02-0.43678938j,  5.45370637e-02+0.03258095j],\n",
       "       [ 8.06028845e-02+0.05843933j,  8.11888439e-02-0.18185134j,\n",
       "        -2.51870402e-01+0.11373596j,  1.87936259e-01+0.58131489j,\n",
       "         8.11888439e-02-0.18185134j,  1.06984690e-01+0.26619909j,\n",
       "         1.87936259e-01+0.58131489j,  6.83039641e-02-0.03038373j],\n",
       "       [-1.66566924e-01+0.07235487j,  2.50980963e-01+0.41399398j,\n",
       "        -3.29201071e-01-0.08527051j, -1.64655594e-01-0.13619661j,\n",
       "         2.16338558e-01-0.41105594j, -6.36728899e-02+0.33852273j,\n",
       "         3.88621304e-01-0.24563702j, -1.18698191e-01-0.10704125j],\n",
       "       [ 4.93006430e-03+0.05982041j,  6.34066579e-04-0.03456337j,\n",
       "        -1.58473168e-01-0.05431684j, -1.28640615e-02-0.12014357j,\n",
       "         6.34066579e-04-0.03456337j,  1.33395795e-01+0.05462619j,\n",
       "        -1.28640615e-02-0.12014357j,  9.57059941e-01-0.00099018j]])"
      ]
     },
     "execution_count": 203,
     "metadata": {},
     "output_type": "execute_result"
    }
   ],
   "source": [
    "GC"
   ]
  },
  {
   "cell_type": "code",
   "execution_count": 208,
   "metadata": {},
   "outputs": [
    {
     "data": {
      "text/plain": [
       "array([[-0.03521464,  0.40701838,  0.77336966, -0.05493629,  0.40701838,\n",
       "         0.21512915, -0.05493629, -0.13044091],\n",
       "       [-0.40701838,  0.10749973,  0.04230416,  0.63391413, -0.30058233,\n",
       "         0.41093055, -0.27903112,  0.28648047],\n",
       "       [-0.77336966,  0.04230416, -0.08740947, -0.05290825,  0.04230416,\n",
       "        -0.32134619, -0.05290825, -0.53086507],\n",
       "       [-0.05493629, -0.63391413,  0.05290825, -0.22760097,  0.27903112,\n",
       "         0.24143485, -0.63568303, -0.0170683 ],\n",
       "       [-0.40701838, -0.30058233,  0.04230416, -0.27903112,  0.10749973,\n",
       "         0.41093055,  0.63391413,  0.28648047],\n",
       "       [ 0.21512915, -0.41093055,  0.32134619,  0.24143485, -0.41093055,\n",
       "         0.1954964 ,  0.24143485, -0.59827069],\n",
       "       [-0.05493629,  0.27903112,  0.05290825, -0.63568303, -0.63391413,\n",
       "         0.24143485, -0.22760097, -0.0170683 ],\n",
       "       [ 0.13044091,  0.28648047, -0.53086507,  0.0170683 ,  0.28648047,\n",
       "         0.59827069,  0.0170683 , -0.42251017]])"
      ]
     },
     "execution_count": 208,
     "metadata": {},
     "output_type": "execute_result"
    }
   ],
   "source": [
    "exp_commutator"
   ]
  },
  {
   "cell_type": "markdown",
   "metadata": {},
   "source": [
    "### With imperfect inversion"
   ]
  },
  {
   "cell_type": "code",
   "execution_count": null,
   "metadata": {},
   "outputs": [],
   "source": []
  }
 ],
 "metadata": {
  "kernelspec": {
   "display_name": "DBF",
   "language": "python",
   "name": "python3"
  },
  "language_info": {
   "codemirror_mode": {
    "name": "ipython",
    "version": 3
   },
   "file_extension": ".py",
   "mimetype": "text/x-python",
   "name": "python",
   "nbconvert_exporter": "python",
   "pygments_lexer": "ipython3",
   "version": "3.11.5"
  }
 },
 "nbformat": 4,
 "nbformat_minor": 2
}
