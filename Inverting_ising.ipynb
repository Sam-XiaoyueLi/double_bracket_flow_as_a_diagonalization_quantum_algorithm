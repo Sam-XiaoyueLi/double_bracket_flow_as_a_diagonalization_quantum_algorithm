{
 "cells": [
  {
   "cell_type": "markdown",
   "metadata": {},
   "source": [
    "# Inverting evolution for Ising model\n",
    "The goal is to obtain the inverse evolution: $e^{-itH}\\to e^{itH}$"
   ]
  },
  {
   "cell_type": "code",
   "execution_count": 1,
   "metadata": {},
   "outputs": [],
   "source": [
    "from simple_exact_diagonalization_routines.local_matrix_class import *\n",
    "from scipy.linalg import expm\n",
    "import matplotlib.pyplot as plt\n",
    "import numpy as np\n",
    "from qutip import *\n",
    "from class_ising_model import *\n",
    "import itertools\n",
    "from class_double_bracket_flow import *\n",
    "import math"
   ]
  },
  {
   "cell_type": "markdown",
   "metadata": {},
   "source": [
    "## Nearest-neighbor"
   ]
  },
  {
   "cell_type": "markdown",
   "metadata": {},
   "source": [
    "### Test 1: 1D Nearest neighbor\n",
    "First, we observe that for a nearest-neighbor model $H_{NN} = \\sum_i Z_i Z_{i+1}$, $X_{odd} = \\prod_i X_{2i-1}$, satisfies:\n",
    "\n",
    "   \\begin{align}\n",
    "        X_\\text{odd} H_\\text{NN}X_\\text{odd} =-H_\\text{NN}\n",
    "    \\end{align}\n",
    "\n",
    "In the 4 qubit case:\n",
    "\n",
    "$H_{NN} = Z_1 Z_2 + Z_2 Z_3 + Z_3 Z_4$\n",
    "\n",
    "$H_{odd} = X_1X_3$\n",
    "\n",
    "$H_{odd}H_{NN}H_{odd} = -Z_1Z_2 - Z_2Z_3 - Z_3Z_4$"
   ]
  },
  {
   "cell_type": "code",
   "execution_count": 60,
   "metadata": {},
   "outputs": [
    {
     "name": "stdout",
     "output_type": "stream",
     "text": [
      "True\n"
     ]
    }
   ],
   "source": [
    "# Test: class output correct Hamiltonian, J_class = '1D' by default\n",
    "# # H_NN = Z1Z2 + Z2Z3 + Z3Z4\n",
    "\n",
    "sys_1D = ising_model([0,0,0,0],[0,0,0,0])\n",
    "print(np.all(sys_1D.H == sys_1D.Z.at(1) @ sys_1D.Z.at(2) + sys_1D.Z.at(2) @ sys_1D.Z.at(3) + sys_1D.Z.at(3) @ sys_1D.Z.at(4)))"
   ]
  },
  {
   "cell_type": "code",
   "execution_count": 63,
   "metadata": {},
   "outputs": [
    {
     "name": "stdout",
     "output_type": "stream",
     "text": [
      "True\n",
      "True\n"
     ]
    }
   ],
   "source": [
    "X_odd_list = [sys_1D.X.at(2*i + 1) for i in range(math.ceil(sys_1D.L/2))]\n",
    "X_odd = np.linalg.multi_dot(X_odd_list)\n",
    "print(np.all(X_odd == sys_1D.X.at(1)@sys_1D.X.at(3)))\n",
    "print(np.all(X_odd @ sys_1D.H @ X_odd ==-sys_1D.H))"
   ]
  },
  {
   "cell_type": "markdown",
   "metadata": {},
   "source": [
    "### Test 2: Circular NN (Even L)\n",
    "$H_{NN} = Z_1 Z_2 + Z_2 Z_3 + Z_3 Z_4 + Z_4Z_1$\n",
    "\n",
    "$H_{odd} = X_1X_3$\n",
    "\n",
    "$H_{odd}H_{NN}H_{odd} = -Z_1Z_2 - Z_2Z_3 - Z_3Z_4 - Z_4Z_1$"
   ]
  },
  {
   "cell_type": "code",
   "execution_count": 64,
   "metadata": {},
   "outputs": [
    {
     "name": "stdout",
     "output_type": "stream",
     "text": [
      "True\n"
     ]
    }
   ],
   "source": [
    "# Test: class output correct Hamiltonian, J_class = 'custom' and 'circular'\n",
    "# # H_NN = Z1Z2 + Z2Z3 + Z3Z4 + Z4Z1\n",
    "\n",
    "# sys = ising_model([0,0,0],[0,0,0],J_type='custom',J_custom={(1,2):1, (2,3):1, (1,3):1})\n",
    "sys_circ = ising_model([0,0,0,0],[0,0,0,0],J_type='circular')\n",
    "print(np.all(sys_circ.H == sys_circ.Z.at(1) @ sys_circ.Z.at(2) + sys_circ.Z.at(2) @ sys_circ.Z.at(3) + sys_circ.Z.at(3) @ sys_circ.Z.at(4) + sys_circ.Z.at(1) @ sys_circ.Z.at(4)))"
   ]
  },
  {
   "cell_type": "code",
   "execution_count": 67,
   "metadata": {},
   "outputs": [
    {
     "name": "stdout",
     "output_type": "stream",
     "text": [
      "True\n",
      "True\n"
     ]
    }
   ],
   "source": [
    "print(np.all(X_odd == sys_circ.X.at(1)@sys_circ.X.at(3)))\n",
    "print(np.all(X_odd @ sys_circ.H @ X_odd ==-sys_circ.H))"
   ]
  },
  {
   "cell_type": "markdown",
   "metadata": {},
   "source": [
    "## Next-nearest-neighbor"
   ]
  },
  {
   "cell_type": "markdown",
   "metadata": {},
   "source": [
    "### Test 1: 1D NNN\n",
    "$H_{NNN} = Z_1 Z_2 + .5Z_1 Z_3 + Z_2 Z_3 + .5Z_2 Z_4 + Z_3 Z_4$\n",
    "\n",
    "$H_{odd} = X_1X_3$\n",
    "\n",
    "$H_{odd}H_{NNN}H_{odd} = ...$\n"
   ]
  },
  {
   "cell_type": "code",
   "execution_count": 16,
   "metadata": {},
   "outputs": [
    {
     "name": "stdout",
     "output_type": "stream",
     "text": [
      "True\n",
      "False\n",
      "False\n"
     ]
    }
   ],
   "source": [
    "sys_1D = ising_model([0,0,0,0],[0,0,0,0],max_coupling_range=2)\n",
    "print(np.all(sys_1D.H == sys_1D.Z.at(1) @ sys_1D.Z.at(2) + .5*sys_1D.Z.at(1) @ sys_1D.Z.at(3)\\\n",
    "    + sys_1D.Z.at(2) @ sys_1D.Z.at(3) + .5*sys_1D.Z.at(2) @ sys_1D.Z.at(4) + sys_1D.Z.at(3) @ sys_1D.Z.at(4)))\n",
    "X_odd = sys_1D.X_odd()\n",
    "X_cor = sys_1D.X.at(1) @ sys_1D.X.at(2)\n",
    "print(np.all(X_odd @ sys_1D.H @ X_odd == sys_1D.H))\n",
    "print(np.all(X_cor @ sys_1D.H @ X_cor == -sys_1D.H))"
   ]
  },
  {
   "cell_type": "code",
   "execution_count": 13,
   "metadata": {},
   "outputs": [
    {
     "name": "stdout",
     "output_type": "stream",
     "text": [
      "False\n",
      "False\n",
      "False\n"
     ]
    }
   ],
   "source": [
    "sys_1D = ising_model([0,0,0,0],[0,0,0,0],max_coupling_range=2)\n",
    "print(np.all(sys_1D.H == sys_1D.Z.at(1) @ sys_1D.Z.at(3) + sys_1D.Z.at(2) @ sys_1D.Z.at(4)))\n",
    "X_odd = sys_1D.X_odd()\n",
    "X_cor = sys_1D.X.at(1) @ sys_1D.X.at(2)\n",
    "print(np.all(X_odd @ sys_1D.H @ X_odd == sys_1D.H))\n",
    "print(np.all(X_cor @ sys_1D.H @ X_cor == -sys_1D.H))"
   ]
  },
  {
   "cell_type": "markdown",
   "metadata": {},
   "source": [
    "## H with field\n",
    "$H  = Z_1Z_2 + \\frac{1}{2}Z_1Z_3 + Z_2Z_3$\n",
    "\n",
    "$H_{inverter} = X_2$\n",
    "\n",
    "$H_{inverter} H H_{inverter} = -H + Z_1Z_3$"
   ]
  },
  {
   "cell_type": "code",
   "execution_count": 98,
   "metadata": {},
   "outputs": [
    {
     "name": "stdout",
     "output_type": "stream",
     "text": [
      "True\n",
      "True\n"
     ]
    }
   ],
   "source": [
    "# Basic case\n",
    "sys = ising_model([0,0,0], [0,0,0], max_coupling_range=2)\n",
    "H_inverter = sys.X.at(2)\n",
    "H_imp_inv = H_inverter @ sys.H @ H_inverter\n",
    "print(np.all(H_imp_inv == (-sys.H + sys.Z.at(1)@sys.Z.at(3))))\n",
    "print(np.all(H_imp_inv + sys.H == sys.Z.at(1)@sys.Z.at(3)))"
   ]
  },
  {
   "cell_type": "markdown",
   "metadata": {},
   "source": [
    "### Convergence\n",
    "$\\lang e^{itH}, \\mathcal I(e^{-itH})\\rang = tr(e^{-itH} X_2e^{-itH}X_2e^{it Z_1Z_3})=tr(e^{-itH} e^{it(Z_1Z_2+Z_2 Z_3 - \\frac{1}{2}Z_1Z_3)}e^{it Z_1Z_3})$"
   ]
  },
  {
   "cell_type": "code",
   "execution_count": 168,
   "metadata": {},
   "outputs": [],
   "source": [
    "# Convergence\n",
    "def convergence(H,H_inverter,t, N):\n",
    "    H_imp_inv = H_inverter @ H @ H_inverter\n",
    "    missing_term = H_imp_inv + H\n",
    "    s = t/N\n",
    "    target = expm(-1j*t*H) @ np.linalg.matrix_power(((H_inverter @ expm(-1j*s*H) @ H_inverter) @ expm(1j* s *missing_term)), N)\n",
    "    return np.abs(target.trace()/np.sqrt(np.size(H)))"
   ]
  },
  {
   "cell_type": "code",
   "execution_count": 176,
   "metadata": {},
   "outputs": [
    {
     "name": "stdout",
     "output_type": "stream",
     "text": [
      "[1.0, 1.0000000000000002, 0.9999999999999974, 1.000000000000003, 0.9999999999999989, 1.0000000000000082, 0.99999999999999, 0.9999999999999764, 1.0000000000000249, 1.00000000000001, 1.0000000000000169, 0.9999999999999383, 1.0000000000000089, 0.9999999999999902, 0.9999999999999917, 1.0000000000000986, 1.0000000000000382, 0.9999999999999931, 1.0000000000000182, 0.999999999999982, 0.9999999999999825]\n"
     ]
    }
   ],
   "source": [
    "N_list = np.linspace(1,1001,21)\n",
    "convergence_list = [convergence(sys.H, H_inverter, 1, int(N)) for N in N_list]\n",
    "print(convergence_list)\n",
    "# No clear trend"
   ]
  },
  {
   "cell_type": "markdown",
   "metadata": {},
   "source": [
    "$H  = Z_1Z_2 + \\frac{1}{2}Z_1Z_3 + Z_2Z_3 +Z_1 + Z_2 + Z_3 + 2(X_1 + X_2 + X_3)$\n",
    "\n",
    "$H_{inverter} = Y_1Y_3$\n",
    "\n",
    "$H_{inverter} H H_{inverter} = -H + Z_1Z_3+2Z_2+4X_2$"
   ]
  },
  {
   "cell_type": "code",
   "execution_count": 177,
   "metadata": {},
   "outputs": [
    {
     "name": "stdout",
     "output_type": "stream",
     "text": [
      "True\n"
     ]
    }
   ],
   "source": [
    "# D and B = [1,1,1]\n",
    "sys = ising_model([1,1,1], [1,1,1], max_coupling_range=2)\n",
    "H_inverter = sys.Y.at(1)@sys.Y.at(3)\n",
    "H_imp_inv = H_inverter @ sys.H @ H_inverter\n",
    "print(np.all(H_imp_inv == (-sys.H + sys.Z.at(1)@sys.Z.at(3)+2*sys.Z.at(2)+4*sys.X.at(2))))"
   ]
  },
  {
   "cell_type": "code",
   "execution_count": 180,
   "metadata": {},
   "outputs": [
    {
     "name": "stdout",
     "output_type": "stream",
     "text": [
      "[0.4208290181660961, 0.9001324857234819, 0.9692521506428866, 0.9853634271416382, 0.9914812835306365, 0.994435752407034, 0.9960832204084248, 0.9970944350527611, 0.9977592781350435, 0.9982195777882122, 0.9985513679934538, 0.9987983808813581, 0.9989872151941835, 0.9991348019968949, 0.9992523337046184, 0.9993474490838816, 0.999425505903673, 0.9994903519699658, 0.9995448083939625, 0.9995909815937039, 0.9996304700369318]\n"
     ]
    },
    {
     "data": {
      "text/plain": [
       "[<matplotlib.lines.Line2D at 0x169d29150>]"
      ]
     },
     "execution_count": 180,
     "metadata": {},
     "output_type": "execute_result"
    },
    {
     "data": {
      "image/png": "[encoded data removed]",
      "text/plain": [
       "<Figure size 640x480 with 1 Axes>"
      ]
     },
     "metadata": {},
     "output_type": "display_data"
    }
   ],
   "source": [
    "N_list = np.linspace(1,101,21)\n",
    "convergence_list = [convergence(sys.H, H_inverter, 1, int(N)) for N in N_list]\n",
    "print(convergence_list)\n",
    "plt.plot(N_list, convergence_list)"
   ]
  },
  {
   "cell_type": "markdown",
   "metadata": {},
   "source": [
    "# Cost function: how well DBI"
   ]
  }
 ],
 "metadata": {
  "kernelspec": {
   "display_name": "DBF",
   "language": "python",
   "name": "python3"
  },
  "language_info": {
   "codemirror_mode": {
    "name": "ipython",
    "version": 3
   },
   "file_extension": ".py",
   "mimetype": "text/x-python",
   "name": "python",
   "nbconvert_exporter": "python",
   "pygments_lexer": "ipython3",
   "version": "3.11.5"
  }
 },
 "nbformat": 4,
 "nbformat_minor": 2
}
